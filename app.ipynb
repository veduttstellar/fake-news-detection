{
 "cells": [
  {
   "cell_type": "code",
   "execution_count": 2,
   "metadata": {},
   "outputs": [],
   "source": [
    "import pandas as pd"
   ]
  },
  {
   "cell_type": "code",
   "execution_count": null,
   "metadata": {},
   "outputs": [
    {
     "name": "stdout",
     "output_type": "stream",
     "text": [
      "                                                URLs  \\\n",
      "0  http://www.bbc.com/news/world-us-canada-414191...   \n",
      "1  https://www.reuters.com/article/us-filmfestiva...   \n",
      "2  https://www.nytimes.com/2017/10/09/us/politics...   \n",
      "3  https://www.reuters.com/article/us-mexico-oil-...   \n",
      "4  http://www.cnn.com/videos/cnnmoney/2017/10/08/...   \n",
      "\n",
      "                                            Headline  \\\n",
      "0         Four ways Bob Corker skewered Donald Trump   \n",
      "1  Linklater's war veteran comedy speaks to moder...   \n",
      "2  Trump’s Fight With Corker Jeopardizes His Legi...   \n",
      "3  Egypt's Cheiron wins tie-up with Pemex for Mex...   \n",
      "4        Jason Aldean opens 'SNL' with Vegas tribute   \n",
      "\n",
      "                                                Body  Label  \n",
      "0  Image copyright Getty Images\\nOn Sunday mornin...      1  \n",
      "1  LONDON (Reuters) - “Last Flag Flying”, a comed...      1  \n",
      "2  The feud broke into public view last week when...      1  \n",
      "3  MEXICO CITY (Reuters) - Egypt’s Cheiron Holdin...      1  \n",
      "4  Country singer Jason Aldean, who was performin...      1  \n",
      "             Label\n",
      "count  4009.000000\n",
      "mean      0.466949\n",
      "std       0.498969\n",
      "min       0.000000\n",
      "25%       0.000000\n",
      "50%       0.000000\n",
      "75%       1.000000\n",
      "max       1.000000\n"
     ]
    }
   ],
   "source": [
    "data = pd.read_csv(\"dataset/data.csv\")\n",
    "print(data.head())\n"
   ]
  },
  {
   "cell_type": "code",
   "execution_count": 54,
   "metadata": {},
   "outputs": [],
   "source": [
    "data = data.dropna()\n"
   ]
  },
  {
   "cell_type": "code",
   "execution_count": 55,
   "metadata": {},
   "outputs": [
    {
     "name": "stdout",
     "output_type": "stream",
     "text": [
      "                                                   URLs  \\\n",
      "1498  http://beforeitsnews.com/sports/2017/10/105-tr...   \n",
      "2108  https://www.nytimes.com/2017/10/07/style/perso...   \n",
      "1729  https://www.nytimes.com/2017/10/12/movies/the-...   \n",
      "869   http://beforeitsnews.com/u-s-politics/2017/09/...   \n",
      "3693  https://www.nytimes.com/2017/10/09/world/middl...   \n",
      "\n",
      "                                               Headline  \\\n",
      "1498  10/5 TRS-PNC Park: Bucs Win in '71, '79; Lose ...   \n",
      "2108            Whatever Happened to Just Being Type A?   \n",
      "1729  Review: In ‘The Departure,’ Watching Over Thos...   \n",
      "869   Ellen DeGeneres Says She Will Never Host Presi...   \n",
      "3693  Yemen’s War Turns Children Into Young Brides a...   \n",
      "\n",
      "                                                   Body  Label  \n",
      "1498  Red Flag Warning: These California Wildfires A...      0  \n",
      "2108  Meanwhile, Ms. Rubin gestated her eighth book....      1  \n",
      "1729  Photo\\nSad, tender and quietly moving, “The De...      1  \n",
      "869   Shahzaib Elahi\\nContributor profile | More sto...      0  \n",
      "3693  According to the United Nations, one in two Ye...      1  \n"
     ]
    }
   ],
   "source": [
    "data = data.sample(frac=1, random_state=42)\n",
    "print(data.head())"
   ]
  },
  {
   "cell_type": "code",
   "execution_count": 22,
   "metadata": {},
   "outputs": [
    {
     "name": "stdout",
     "output_type": "stream",
     "text": [
      "                                                   title  \\\n",
      "29396   Wingnut Pastor: The Pope Is ‘Confused,’ Shoul...   \n",
      "30207   Colbert’s Merciless Mockery Of Oregon Militan...   \n",
      "41906  LOL! The Woman Who Couldn’t Be Bothered With P...   \n",
      "18068  Spain's PM says may use constitution to block ...   \n",
      "19920  Trump to 'slap' foes, embrace friends in first...   \n",
      "\n",
      "                                                    text    subject  \\\n",
      "29396  Donald Trump decided to war with the one perso...       News   \n",
      "30207  The domestic terrorists currently occupying th...       News   \n",
      "41906  Ironically, the two issues that catapulted Tru...  left-news   \n",
      "18068  MADRID/BARCELONA (Reuters) - Spanish Prime Min...  worldnews   \n",
      "19920  WASHINGTON (Reuters) - President Donald Trump ...  worldnews   \n",
      "\n",
      "                      date  label  \n",
      "29396    February 20, 2016      0  \n",
      "30207     January 13, 2016      0  \n",
      "41906          Jun 1, 2016      0  \n",
      "18068     October 7, 2017       1  \n",
      "19920  September 15, 2017       1  \n",
      "(44898, 5)\n"
     ]
    }
   ],
   "source": [
    "print(data.head())\n",
    "print(data.shape)"
   ]
  },
  {
   "cell_type": "code",
   "execution_count": 56,
   "metadata": {},
   "outputs": [
    {
     "name": "stdout",
     "output_type": "stream",
     "text": [
      "(3988, 4)\n"
     ]
    }
   ],
   "source": [
    "data = data.dropna()\n",
    "print(data.shape)"
   ]
  },
  {
   "cell_type": "code",
   "execution_count": 105,
   "metadata": {},
   "outputs": [],
   "source": [
    "import nltk\n",
    "from nltk.corpus import stopwords\n",
    "from nltk.tokenize import word_tokenize\n",
    "from nltk.stem import WordNetLemmatizer\n",
    "import string\n",
    "import re"
   ]
  },
  {
   "cell_type": "code",
   "execution_count": 106,
   "metadata": {},
   "outputs": [
    {
     "name": "stderr",
     "output_type": "stream",
     "text": [
      "[nltk_data] Downloading package stopwords to\n",
      "[nltk_data]     C:\\Users\\duttvedaant\\AppData\\Roaming\\nltk_data...\n",
      "[nltk_data]   Package stopwords is already up-to-date!\n",
      "[nltk_data] Downloading package punkt to\n",
      "[nltk_data]     C:\\Users\\duttvedaant\\AppData\\Roaming\\nltk_data...\n",
      "[nltk_data]   Package punkt is already up-to-date!\n",
      "[nltk_data] Downloading package wordnet to\n",
      "[nltk_data]     C:\\Users\\duttvedaant\\AppData\\Roaming\\nltk_data...\n",
      "[nltk_data]   Package wordnet is already up-to-date!\n"
     ]
    },
    {
     "data": {
      "text/plain": [
       "True"
      ]
     },
     "execution_count": 106,
     "metadata": {},
     "output_type": "execute_result"
    }
   ],
   "source": [
    "nltk.download('stopwords')\n",
    "nltk.download('punkt')\n",
    "nltk.download('wordnet')"
   ]
  },
  {
   "cell_type": "code",
   "execution_count": 107,
   "metadata": {},
   "outputs": [],
   "source": [
    "stop_words = set(stopwords.words('english'))\n"
   ]
  },
  {
   "cell_type": "code",
   "execution_count": 108,
   "metadata": {},
   "outputs": [],
   "source": [
    "def preprocess_text(text):\n",
    "    text = re.sub(r'[^\\w\\s]', '', text)  # This removes all non-word characters (e.g., punctuation)\n",
    "    \n",
    "    # Tokenize, convert to lowercase, and remove stopwords\n",
    "    tokens = word_tokenize(text.lower())\n",
    "    tokens = [word for word in tokens if word not in stop_words]\n",
    "    \n",
    "    # Join the tokens back into a string and return\n",
    "    return \" \".join(tokens)"
   ]
  },
  {
   "cell_type": "code",
   "execution_count": 109,
   "metadata": {},
   "outputs": [
    {
     "name": "stdout",
     "output_type": "stream",
     "text": [
      "                                                   URLs  \\\n",
      "1498  http://beforeitsnews.com/sports/2017/10/105-tr...   \n",
      "2108  https://www.nytimes.com/2017/10/07/style/perso...   \n",
      "1729  https://www.nytimes.com/2017/10/12/movies/the-...   \n",
      "869   http://beforeitsnews.com/u-s-politics/2017/09/...   \n",
      "3693  https://www.nytimes.com/2017/10/09/world/middl...   \n",
      "\n",
      "                                               Headline  \\\n",
      "1498  10/5 TRS-PNC Park: Bucs Win in '71, '79; Lose ...   \n",
      "2108            Whatever Happened to Just Being Type A?   \n",
      "1729  Review: In ‘The Departure,’ Watching Over Thos...   \n",
      "869   Ellen DeGeneres Says She Will Never Host Presi...   \n",
      "3693  Yemen’s War Turns Children Into Young Brides a...   \n",
      "\n",
      "                                                   Body  Label  \n",
      "1498  red flag warning california wildfires among de...      0  \n",
      "2108  meanwhile ms rubin gestated eighth book four t...      1  \n",
      "1729  photo sad tender quietly moving departure neve...      1  \n",
      "869   shahzaib elahi contributor profile stories sto...      0  \n",
      "3693  according united nations one two yemeni childr...      1  \n"
     ]
    }
   ],
   "source": [
    "data['Body'] = data['Body'].apply(preprocess_text)\n",
    "print(data.head())"
   ]
  },
  {
   "cell_type": "code",
   "execution_count": 113,
   "metadata": {},
   "outputs": [
    {
     "name": "stdout",
     "output_type": "stream",
     "text": [
      "[[0.         0.         0.         ... 0.         0.         0.        ]\n",
      " [0.02953937 0.         0.         ... 0.         0.         0.        ]\n",
      " [0.         0.         0.         ... 0.         0.         0.        ]\n",
      " ...\n",
      " [0.         0.         0.         ... 0.         0.         0.        ]\n",
      " [0.03034822 0.         0.         ... 0.         0.         0.        ]\n",
      " [0.         0.         0.         ... 0.         0.         0.        ]]\n"
     ]
    }
   ],
   "source": [
    "from sklearn.feature_extraction.text import TfidfVectorizer\n",
    "\n",
    "vectorizer = TfidfVectorizer(max_features=5000, ngram_range=(1,2))\n",
    "X = vectorizer.fit_transform(data['Body']).toarray()\n",
    "y = data['Label']\n",
    "\n",
    "print(X)\n"
   ]
  },
  {
   "cell_type": "code",
   "execution_count": 114,
   "metadata": {},
   "outputs": [],
   "source": [
    "from sklearn.model_selection import train_test_split\n",
    "\n",
    "X_train, X_test, y_train, y_test = train_test_split(X, y, test_size=0.2, random_state=42)\n"
   ]
  },
  {
   "cell_type": "code",
   "execution_count": 115,
   "metadata": {},
   "outputs": [
    {
     "name": "stdout",
     "output_type": "stream",
     "text": [
      "Accuracy: 0.9887218045112782\n",
      "Classification Report:\n",
      "               precision    recall  f1-score   support\n",
      "\n",
      "           0       1.00      0.98      0.99       417\n",
      "           1       0.98      1.00      0.99       381\n",
      "\n",
      "    accuracy                           0.99       798\n",
      "   macro avg       0.99      0.99      0.99       798\n",
      "weighted avg       0.99      0.99      0.99       798\n",
      "\n"
     ]
    }
   ],
   "source": [
    "from sklearn.ensemble import RandomForestClassifier\n",
    "from sklearn.linear_model import LogisticRegression\n",
    "from sklearn.metrics import accuracy_score, classification_report\n",
    "\n",
    "# Train model\n",
    "model = RandomForestClassifier()\n",
    "#model = LogisticRegression()\n",
    "model.fit(X_train, y_train)\n",
    "\n",
    "# Evaluate on test data\n",
    "y_pred = model.predict(X_test)\n",
    "print(\"Accuracy:\", accuracy_score(y_test, y_pred))\n",
    "print(\"Classification Report:\\n\", classification_report(y_test, y_pred))\n"
   ]
  },
  {
   "cell_type": "code",
   "execution_count": 116,
   "metadata": {},
   "outputs": [
    {
     "data": {
      "text/plain": [
       "<sklearn.metrics._plot.confusion_matrix.ConfusionMatrixDisplay at 0x25d730b5220>"
      ]
     },
     "execution_count": 116,
     "metadata": {},
     "output_type": "execute_result"
    },
    {
     "data": {
      "image/png": "[encoded data removed]",
      "text/plain": [
       "<Figure size 640x480 with 2 Axes>"
      ]
     },
     "metadata": {},
     "output_type": "display_data"
    }
   ],
   "source": [
    "from sklearn.metrics import confusion_matrix, ConfusionMatrixDisplay\n",
    "\n",
    "cm = confusion_matrix(y_test, y_pred)\n",
    "disp = ConfusionMatrixDisplay(confusion_matrix=cm, display_labels=model.classes_)\n",
    "disp.plot()\n"
   ]
  },
  {
   "cell_type": "code",
   "execution_count": 117,
   "metadata": {},
   "outputs": [
    {
     "data": {
      "text/plain": [
       "['fake_news_detector.pkl']"
      ]
     },
     "execution_count": 117,
     "metadata": {},
     "output_type": "execute_result"
    }
   ],
   "source": [
    "import joblib\n",
    "joblib.dump(model, \"fake_news_detector.pkl\")\n"
   ]
  },
  {
   "cell_type": "code",
   "execution_count": 119,
   "metadata": {},
   "outputs": [
    {
     "name": "stdout",
     "output_type": "stream",
     "text": [
      "Label\n",
      "0    2120\n",
      "1    1868\n",
      "Name: count, dtype: int64\n"
     ]
    }
   ],
   "source": [
    "print(data['Label'].value_counts())\n"
   ]
  },
  {
   "cell_type": "code",
   "execution_count": 45,
   "metadata": {},
   "outputs": [
    {
     "name": "stdout",
     "output_type": "stream",
     "text": [
      "              precision    recall  f1-score   support\n",
      "\n",
      "           0       1.00      1.00      1.00      4653\n",
      "           1       1.00      1.00      1.00      4327\n",
      "\n",
      "    accuracy                           1.00      8980\n",
      "   macro avg       1.00      1.00      1.00      8980\n",
      "weighted avg       1.00      1.00      1.00      8980\n",
      "\n"
     ]
    }
   ],
   "source": [
    "from sklearn.metrics import classification_report\n",
    "\n",
    "# Assuming y_true (actual labels) and y_pred (predicted labels) are available\n",
    "print(classification_report(y_test, y_pred))\n"
   ]
  },
  {
   "cell_type": "code",
   "execution_count": 120,
   "metadata": {},
   "outputs": [
    {
     "name": "stdout",
     "output_type": "stream",
     "text": [
      "Cross-validation scores: [0.9887218  0.9887218  0.9887218  0.98870765 0.99121706]\n",
      "Mean accuracy: 0.9892180262450354\n"
     ]
    }
   ],
   "source": [
    "from sklearn.model_selection import cross_val_score\n",
    "from sklearn.ensemble import RandomForestClassifier  # Example classifier\n",
    "\n",
    "model = RandomForestClassifier()\n",
    "scores = cross_val_score(model, X, y, cv=5)  # X = features, y = labels\n",
    "print(f\"Cross-validation scores: {scores}\")\n",
    "print(f\"Mean accuracy: {scores.mean()}\")\n"
   ]
  }
 ],
 "metadata": {
  "kernelspec": {
   "display_name": "venv",
   "language": "python",
   "name": "python3"
  },
  "language_info": {
   "codemirror_mode": {
    "name": "ipython",
    "version": 3
   },
   "file_extension": ".py",
   "mimetype": "text/x-python",
   "name": "python",
   "nbconvert_exporter": "python",
   "pygments_lexer": "ipython3",
   "version": "3.12.6"
  }
 },
 "nbformat": 4,
 "nbformat_minor": 2
}
