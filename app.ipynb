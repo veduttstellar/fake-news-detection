{
 "cells": [
  {
   "cell_type": "code",
   "execution_count": 1,
   "metadata": {},
   "outputs": [],
   "source": [
    "import pandas as pd"
   ]
  },
  {
   "cell_type": "code",
   "execution_count": 20,
   "metadata": {},
   "outputs": [],
   "source": [
    "#read the data from the file\n",
    "data = pd.read_csv(\"dataset/data.csv\")\n",
    "#print(data.head())\n"
   ]
  },
  {
   "cell_type": "code",
   "execution_count": 21,
   "metadata": {},
   "outputs": [],
   "source": [
    "#drop the rows with missing values\n",
    "data = data.dropna()\n"
   ]
  },
  {
   "cell_type": "code",
   "execution_count": 22,
   "metadata": {},
   "outputs": [],
   "source": [
    "#shuffle the data\n",
    "data = data.sample(frac=1, random_state=42)\n",
    "#print(data.head())"
   ]
  },
  {
   "cell_type": "code",
   "execution_count": 23,
   "metadata": {},
   "outputs": [
    {
     "name": "stdout",
     "output_type": "stream",
     "text": [
      "                                                   URLs  \\\n",
      "1498  http://beforeitsnews.com/sports/2017/10/105-tr...   \n",
      "2108  https://www.nytimes.com/2017/10/07/style/perso...   \n",
      "1729  https://www.nytimes.com/2017/10/12/movies/the-...   \n",
      "869   http://beforeitsnews.com/u-s-politics/2017/09/...   \n",
      "3693  https://www.nytimes.com/2017/10/09/world/middl...   \n",
      "\n",
      "                                               Headline  \\\n",
      "1498  10/5 TRS-PNC Park: Bucs Win in '71, '79; Lose ...   \n",
      "2108            Whatever Happened to Just Being Type A?   \n",
      "1729  Review: In ‘The Departure,’ Watching Over Thos...   \n",
      "869   Ellen DeGeneres Says She Will Never Host Presi...   \n",
      "3693  Yemen’s War Turns Children Into Young Brides a...   \n",
      "\n",
      "                                                   Body  Label  \n",
      "1498  Red Flag Warning: These California Wildfires A...      0  \n",
      "2108  Meanwhile, Ms. Rubin gestated her eighth book....      1  \n",
      "1729  Photo\\nSad, tender and quietly moving, “The De...      1  \n",
      "869   Shahzaib Elahi\\nContributor profile | More sto...      0  \n",
      "3693  According to the United Nations, one in two Ye...      1  \n",
      "(3988, 4)\n"
     ]
    }
   ],
   "source": [
    "print(data.head())\n",
    "print(data.shape)"
   ]
  },
  {
   "cell_type": "code",
   "execution_count": 25,
   "metadata": {},
   "outputs": [],
   "source": [
    "#importing nlp libraries\n",
    "import nltk\n",
    "from nltk.corpus import stopwords\n",
    "from nltk.tokenize import word_tokenize\n",
    "from nltk.stem import WordNetLemmatizer\n",
    "import string\n",
    "import re"
   ]
  },
  {
   "cell_type": "code",
   "execution_count": 26,
   "metadata": {},
   "outputs": [
    {
     "name": "stderr",
     "output_type": "stream",
     "text": [
      "[nltk_data] Downloading package stopwords to\n",
      "[nltk_data]     C:\\Users\\duttvedaant\\AppData\\Roaming\\nltk_data...\n",
      "[nltk_data]   Package stopwords is already up-to-date!\n",
      "[nltk_data] Downloading package punkt to\n",
      "[nltk_data]     C:\\Users\\duttvedaant\\AppData\\Roaming\\nltk_data...\n",
      "[nltk_data]   Package punkt is already up-to-date!\n",
      "[nltk_data] Downloading package wordnet to\n",
      "[nltk_data]     C:\\Users\\duttvedaant\\AppData\\Roaming\\nltk_data...\n",
      "[nltk_data]   Package wordnet is already up-to-date!\n"
     ]
    },
    {
     "data": {
      "text/plain": [
       "True"
      ]
     },
     "execution_count": 26,
     "metadata": {},
     "output_type": "execute_result"
    }
   ],
   "source": [
    "nltk.download('stopwords')\n",
    "nltk.download('punkt')\n",
    "nltk.download('wordnet')"
   ]
  },
  {
   "cell_type": "code",
   "execution_count": 28,
   "metadata": {},
   "outputs": [],
   "source": [
    "# a set of stopwords\n",
    "stop_words = set(stopwords.words('english'))\n"
   ]
  },
  {
   "cell_type": "code",
   "execution_count": null,
   "metadata": {},
   "outputs": [],
   "source": [
    "def preprocess_text(text):\n",
    "    # Remove punctuation\n",
    "    text = re.sub(r'[^\\w\\s]', '', text)  \n",
    "    # Tokenize, convert to lowercase, and remove stopwords\n",
    "    tokens = word_tokenize(text.lower())\n",
    "    tokens = [word for word in tokens if word not in stop_words]\n",
    "    return \" \".join(tokens)"
   ]
  },
  {
   "cell_type": "code",
   "execution_count": 30,
   "metadata": {},
   "outputs": [
    {
     "name": "stdout",
     "output_type": "stream",
     "text": [
      "                                                   URLs  \\\n",
      "1498  http://beforeitsnews.com/sports/2017/10/105-tr...   \n",
      "2108  https://www.nytimes.com/2017/10/07/style/perso...   \n",
      "1729  https://www.nytimes.com/2017/10/12/movies/the-...   \n",
      "869   http://beforeitsnews.com/u-s-politics/2017/09/...   \n",
      "3693  https://www.nytimes.com/2017/10/09/world/middl...   \n",
      "\n",
      "                                               Headline  \\\n",
      "1498  10/5 TRS-PNC Park: Bucs Win in '71, '79; Lose ...   \n",
      "2108            Whatever Happened to Just Being Type A?   \n",
      "1729  Review: In ‘The Departure,’ Watching Over Thos...   \n",
      "869   Ellen DeGeneres Says She Will Never Host Presi...   \n",
      "3693  Yemen’s War Turns Children Into Young Brides a...   \n",
      "\n",
      "                                                   Body  Label  \n",
      "1498  red flag warning california wildfires among de...      0  \n",
      "2108  meanwhile ms rubin gestated eighth book four t...      1  \n",
      "1729  photo sad tender quietly moving departure neve...      1  \n",
      "869   shahzaib elahi contributor profile stories sto...      0  \n",
      "3693  according united nations one two yemeni childr...      1  \n"
     ]
    }
   ],
   "source": [
    "data['Body'] = data['Body'].apply(preprocess_text)\n",
    "print(data.head())"
   ]
  },
  {
   "cell_type": "code",
   "execution_count": null,
   "metadata": {},
   "outputs": [
    {
     "name": "stdout",
     "output_type": "stream",
     "text": [
      "[[0.         0.         0.         ... 0.         0.         0.        ]\n",
      " [0.02909769 0.         0.         ... 0.         0.         0.        ]\n",
      " [0.         0.         0.         ... 0.         0.         0.        ]\n",
      " ...\n",
      " [0.         0.         0.         ... 0.         0.         0.        ]\n",
      " [0.030381   0.         0.         ... 0.         0.         0.        ]\n",
      " [0.         0.         0.         ... 0.         0.         0.        ]]\n"
     ]
    }
   ],
   "source": [
    "#converting text to matrix of tdf-idf features\n",
    "from sklearn.feature_extraction.text import TfidfVectorizer\n",
    "\n",
    "vectorizer = TfidfVectorizer(max_features=5000, ngram_range=(1,2))\n",
    "X = vectorizer.fit_transform(data['Body']).toarray()\n",
    "y = data['Label']\n",
    "\n",
    "#print(X)\n"
   ]
  },
  {
   "cell_type": "code",
   "execution_count": null,
   "metadata": {},
   "outputs": [],
   "source": [
    "#split the data into training and testing sets\n",
    "from sklearn.model_selection import train_test_split\n",
    "X_train, X_test, y_train, y_test = train_test_split(X, y, test_size=0.2, random_state=42)\n"
   ]
  },
  {
   "cell_type": "code",
   "execution_count": null,
   "metadata": {},
   "outputs": [
    {
     "name": "stdout",
     "output_type": "stream",
     "text": [
      "Accuracy: 0.9874686716791979\n",
      "Classification Report:\n",
      "               precision    recall  f1-score   support\n",
      "\n",
      "           0       1.00      0.98      0.99       417\n",
      "           1       0.98      0.99      0.99       381\n",
      "\n",
      "    accuracy                           0.99       798\n",
      "   macro avg       0.99      0.99      0.99       798\n",
      "weighted avg       0.99      0.99      0.99       798\n",
      "\n"
     ]
    }
   ],
   "source": [
    "from sklearn.ensemble import RandomForestClassifier\n",
    "from sklearn.linear_model import LogisticRegression\n",
    "from sklearn.metrics import accuracy_score, classification_report\n",
    "\n",
    "model = RandomForestClassifier()\n",
    "#model = LogisticRegression()\n",
    "model.fit(X_train, y_train)\n",
    "\n",
    "# Evaluate on test data\n",
    "y_pred = model.predict(X_test)\n",
    "print(\"Accuracy:\", accuracy_score(y_test, y_pred))\n",
    "# Classification report\n",
    "print(\"Classification Report:\\n\", classification_report(y_test, y_pred))\n"
   ]
  },
  {
   "cell_type": "code",
   "execution_count": null,
   "metadata": {},
   "outputs": [
    {
     "data": {
      "text/plain": [
       "<sklearn.metrics._plot.confusion_matrix.ConfusionMatrixDisplay at 0x2263f306e70>"
      ]
     },
     "execution_count": 15,
     "metadata": {},
     "output_type": "execute_result"
    },
    {
     "data": {
      "image/png": "[encoded data removed]",
      "text/plain": [
       "<Figure size 640x480 with 2 Axes>"
      ]
     },
     "metadata": {},
     "output_type": "display_data"
    }
   ],
   "source": [
    "#displaying a confusion matrix\n",
    "from sklearn.metrics import confusion_matrix, ConfusionMatrixDisplay\n",
    "\n",
    "cm = confusion_matrix(y_test, y_pred)\n",
    "disp = ConfusionMatrixDisplay(confusion_matrix=cm, display_labels=model.classes_)\n",
    "disp.plot()\n"
   ]
  }
 ],
 "metadata": {
  "kernelspec": {
   "display_name": "venv",
   "language": "python",
   "name": "python3"
  },
  "language_info": {
   "codemirror_mode": {
    "name": "ipython",
    "version": 3
   },
   "file_extension": ".py",
   "mimetype": "text/x-python",
   "name": "python",
   "nbconvert_exporter": "python",
   "pygments_lexer": "ipython3",
   "version": "3.12.6"
  }
 },
 "nbformat": 4,
 "nbformat_minor": 2
}
